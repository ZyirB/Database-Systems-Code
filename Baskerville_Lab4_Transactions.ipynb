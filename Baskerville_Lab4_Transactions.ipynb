{
  "nbformat": 4,
  "nbformat_minor": 0,
  "metadata": {
    "colab": {
      "provenance": [],
      "authorship_tag": "ABX9TyOXpd3sHUzPam0cVHlw/lR2",
      "include_colab_link": true
    },
    "kernelspec": {
      "name": "python3",
      "display_name": "Python 3"
    },
    "language_info": {
      "name": "python"
    }
  },
  "cells": [
    {
      "cell_type": "markdown",
      "metadata": {
        "id": "view-in-github",
        "colab_type": "text"
      },
      "source": [
        "<a href=\"https://colab.research.google.com/github/ZyirB/Database-Systems-Code/blob/main/Baskerville_Lab4_Transactions.ipynb\" target=\"_parent\"><img src=\"https://colab.research.google.com/assets/colab-badge.svg\" alt=\"Open In Colab\"/></a>"
      ]
    },
    {
      "cell_type": "code",
      "execution_count": 1,
      "metadata": {
        "id": "k7kxR0S1U3G5"
      },
      "outputs": [],
      "source": [
        "import sqlite3"
      ]
    },
    {
      "cell_type": "code",
      "source": [
        "# connect to SQLite database\n",
        "conn = sqlite3.connect(':memory:')\n",
        "cursor = conn.cursor()\n",
        "\n",
        "print(\"establish in-memory database connection\")"
      ],
      "metadata": {
        "colab": {
          "base_uri": "https://localhost:8080/"
        },
        "id": "D3htWICuVEA8",
        "outputId": "0457b6ac-8eeb-4aed-d24e-63f764bc7435"
      },
      "execution_count": 2,
      "outputs": [
        {
          "output_type": "stream",
          "name": "stdout",
          "text": [
            "establish in-memory database connection\n"
          ]
        }
      ]
    },
    {
      "cell_type": "code",
      "source": [
        "# create users table\n",
        "cursor.execute('''CREATE TABLE IF NOT EXISTS users (\n",
        "  id INTEGER PRIMARY KEY,\n",
        "  name TEXT,\n",
        "  balance REAL\n",
        ")''')"
      ],
      "metadata": {
        "colab": {
          "base_uri": "https://localhost:8080/"
        },
        "id": "i-A7JXaCVsoo",
        "outputId": "3afca1f2-f4a8-408c-c8db-127b1c69842a"
      },
      "execution_count": 3,
      "outputs": [
        {
          "output_type": "execute_result",
          "data": {
            "text/plain": [
              "<sqlite3.Cursor at 0x78126ee0b240>"
            ]
          },
          "metadata": {},
          "execution_count": 3
        }
      ]
    },
    {
      "cell_type": "code",
      "source": [
        "# add/insert data\n",
        "cursor.execute(\"INSERT INTO users (name, balance) VALUES (?, ?)\", ('Alice', 1000.0))\n",
        "cursor.execute(\"INSERT INTO users (name, balance) VALUES (?, ?)\", ('Bob', 500.0))"
      ],
      "metadata": {
        "colab": {
          "base_uri": "https://localhost:8080/"
        },
        "id": "wabFWBT1Xbba",
        "outputId": "3234cb9c-0221-4c21-d911-005ab001a990"
      },
      "execution_count": 4,
      "outputs": [
        {
          "output_type": "execute_result",
          "data": {
            "text/plain": [
              "<sqlite3.Cursor at 0x78126ee0b240>"
            ]
          },
          "metadata": {},
          "execution_count": 4
        }
      ]
    },
    {
      "cell_type": "code",
      "source": [
        "# function to handle transfer funds transaction\n",
        "def transfer_funds(sender, recipient, amount):\n",
        "  try:\n",
        "    # check if transaction is active\n",
        "    if not conn.in_transaction:\n",
        "      # start transaction\n",
        "      conn.execute(\"BEGIN\")\n",
        "\n",
        "    # check if sender has sufficient balance\n",
        "    cursor.execute(\"SELECT balance FROM users WHERE name=?\", (sender,))\n",
        "    sender_balance = cursor.fetchone()[0]\n",
        "    if sender_balance < amount:\n",
        "      raise ValueError(\"Insufficient funds\")\n",
        "\n",
        "    # update sender's balance\n",
        "    cursor.execute(\"UPDATE users SET balance = balance - ? WHERE name=?\", (amount, sender))\n",
        "\n",
        "    # update recipient's balance\n",
        "    cursor.execute(\"UPDATE user SET balance = balance + ? WHERE name=?\", (amount, recipient))\n",
        "\n",
        "    # commit transaction\n",
        "    if not conn.in_transaction:\n",
        "      # commit only if not in already in a transaction\n",
        "      conn.commit()\n",
        "    print(\"Transaction successful\")\n",
        "  except Exception as e:\n",
        "    # rollback transaction if any error occurs\n",
        "    if not conn.in_transaction:\n",
        "      conn.rollback()\n",
        "    print(f\"Transaction failed: {e}\")\n",
        "\n",
        "print(\"created function to handle transfer of funds\")"
      ],
      "metadata": {
        "colab": {
          "base_uri": "https://localhost:8080/"
        },
        "id": "RKBPH-HHZEsJ",
        "outputId": "ece59ebb-f884-4079-92d6-b79d4a0a02c6"
      },
      "execution_count": 5,
      "outputs": [
        {
          "output_type": "stream",
          "name": "stdout",
          "text": [
            "created function to handle transfer of funds\n"
          ]
        }
      ]
    },
    {
      "cell_type": "code",
      "source": [
        "# perform a fund transfer\n",
        "transfer_funds('Alice', 'Bob', 200.0)"
      ],
      "metadata": {
        "colab": {
          "base_uri": "https://localhost:8080/"
        },
        "id": "bwEeDl1m9f9J",
        "outputId": "6f5d2111-1f93-49f1-c34c-29b2676936e8"
      },
      "execution_count": 6,
      "outputs": [
        {
          "output_type": "stream",
          "name": "stdout",
          "text": [
            "Transaction failed: no such table: user\n"
          ]
        }
      ]
    },
    {
      "cell_type": "code",
      "source": [
        "# display balances after transaction\n",
        "cursor.execute(\"SELECT name, balance FROM users\")\n",
        "print(cursor.fetchall())"
      ],
      "metadata": {
        "colab": {
          "base_uri": "https://localhost:8080/"
        },
        "id": "a0PmxBjx--Rw",
        "outputId": "efaf8ee2-c923-4795-b0d7-cca80bdb3cf4"
      },
      "execution_count": 7,
      "outputs": [
        {
          "output_type": "stream",
          "name": "stdout",
          "text": [
            "[('Alice', 800.0), ('Bob', 500.0)]\n"
          ]
        }
      ]
    },
    {
      "cell_type": "code",
      "source": [
        "# close database connection\n",
        "conn.close()\n",
        "\n",
        "print(\"close database connection\")"
      ],
      "metadata": {
        "colab": {
          "base_uri": "https://localhost:8080/"
        },
        "id": "9cC_vQdX_jiD",
        "outputId": "8fa996d8-31f3-444e-a543-01c1956f3d58"
      },
      "execution_count": 8,
      "outputs": [
        {
          "output_type": "stream",
          "name": "stdout",
          "text": [
            "close database connection\n"
          ]
        }
      ]
    }
  ]
}