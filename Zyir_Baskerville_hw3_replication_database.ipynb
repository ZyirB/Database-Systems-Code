{
  "nbformat": 4,
  "nbformat_minor": 0,
  "metadata": {
    "colab": {
      "provenance": [],
      "authorship_tag": "ABX9TyOZF+RvYxJdqcMEMAGYv1ZF",
      "include_colab_link": true
    },
    "kernelspec": {
      "name": "python3",
      "display_name": "Python 3"
    },
    "language_info": {
      "name": "python"
    }
  },
  "cells": [
    {
      "cell_type": "markdown",
      "metadata": {
        "id": "view-in-github",
        "colab_type": "text"
      },
      "source": [
        "<a href=\"https://colab.research.google.com/github/ZyirB/Database-Systems-Code/blob/main/Zyir_Baskerville_hw3_replication_database.ipynb\" target=\"_parent\"><img src=\"https://colab.research.google.com/assets/colab-badge.svg\" alt=\"Open In Colab\"/></a>"
      ]
    },
    {
      "cell_type": "code",
      "execution_count": 8,
      "metadata": {
        "colab": {
          "base_uri": "https://localhost:8080/",
          "height": 0
        },
        "id": "d5208ryNGNRD",
        "outputId": "64369f64-6663-4d77-c9cd-9fda50616427"
      },
      "outputs": [
        {
          "output_type": "stream",
          "name": "stdout",
          "text": [
            "imported some packages\n"
          ]
        }
      ],
      "source": [
        "# package to handle thread-base parallelism\n",
        "import threading\n",
        "# package to handle time related functions\n",
        "import time\n",
        "\n",
        "print(\"imported some packages\")"
      ]
    },
    {
      "cell_type": "code",
      "source": [
        "# represents a distributed database system\n",
        "class DatabaseNode:\n",
        "  def __init__(self, node_id):\n",
        "    # unique identifier for each node\n",
        "    self.node_id = node_id\n",
        "    # data stored locally within the node\n",
        "    self.data = {}\n",
        "    # list of replica nodes\n",
        "    self.replica_nodes = []\n",
        "\n",
        "  # simulates a wrtie operation on the database node\n",
        "  def write_data(self, key, value):\n",
        "    print(f\"Node {self.node_id}: Write Operation - Key: {key}, Value: {value}\")\n",
        "    self.data[key] = value\n",
        "\n",
        "    # iterates over each replica node to replicate the write operation\n",
        "    for replica_node in self.replica_nodes:\n",
        "      replica_node.receive_replication(key, value)\n",
        "\n",
        "  # receive replicated data from other nodes\n",
        "  def receive_replication(self, key, value):\n",
        "    print(f\"Node {self.node_id}: Replication - Key: {key}, Value: {value}\")\n",
        "    self.data[key] = value\n",
        "\n",
        "  # simulates a read option on the database node\n",
        "  def read_data(self, key):\n",
        "    print(f\"Node {self.node_id}: Read Operation - Key: {key}, Value: {self.data.get(key, 'Not found')}\")\n",
        "    return self.data.get(key, None)\n",
        "\n",
        "\n",
        "  print(\"created the node that represents the distributed database system\")"
      ],
      "metadata": {
        "id": "Fg9TIbMGG90V",
        "colab": {
          "base_uri": "https://localhost:8080/",
          "height": 0
        },
        "outputId": "5762752b-430f-4167-8355-46a53c8ccd2e"
      },
      "execution_count": 9,
      "outputs": [
        {
          "output_type": "stream",
          "name": "stdout",
          "text": [
            "created the node that represents the distributed database system\n"
          ]
        }
      ]
    },
    {
      "cell_type": "code",
      "source": [
        "# simulates a continuous stream of write operations on a database node\n",
        "def simulate_writes(node):\n",
        "  # used to generate unique keys for write operation\n",
        "  i = 0\n",
        "  # continuous loop\n",
        "  while True:\n",
        "    node.write_data(f\" k - {i}\", f\" v - {i}\")\n",
        "    # ensure unique key-value pair\n",
        "    i += 1\n",
        "    # pause operation for 2 seconds before the next iteration\n",
        "    time.sleep(2)\n",
        "\n",
        "print(\"defined the methods to handle simulating a continuous stream of write operations\")"
      ],
      "metadata": {
        "colab": {
          "base_uri": "https://localhost:8080/",
          "height": 0
        },
        "id": "3lu5TabsjalR",
        "outputId": "900dcaa0-160d-404d-f416-a99eb0f318e8"
      },
      "execution_count": 10,
      "outputs": [
        {
          "output_type": "stream",
          "name": "stdout",
          "text": [
            "defined the methods to handle simulating a continuous stream of write operations\n"
          ]
        }
      ]
    },
    {
      "cell_type": "code",
      "source": [
        "# create two node instances\n",
        "node1 = DatabaseNode(1)\n",
        "node2 = DatabaseNode(2)\n",
        "\n",
        "# set up replication between the two nodes\n",
        "node1.replica_nodes.append(node2)\n",
        "node2.replica_nodes.append(node1)\n",
        "\n",
        "print(\"initialized the node instances and set up node replication\")"
      ],
      "metadata": {
        "colab": {
          "base_uri": "https://localhost:8080/",
          "height": 0
        },
        "id": "tEkhPcmEx01s",
        "outputId": "eea4caa1-03f4-41b8-a4ae-59ce9c9e7513"
      },
      "execution_count": 11,
      "outputs": [
        {
          "output_type": "stream",
          "name": "stdout",
          "text": [
            "initialized the node instances and set up node replication\n"
          ]
        }
      ]
    },
    {
      "cell_type": "code",
      "source": [
        "# start write operations for node1 in a seperate thread\n",
        "threading.Thread(target=simulate_writes, args=(node1)).start()"
      ],
      "metadata": {
        "colab": {
          "base_uri": "https://localhost:8080/",
          "height": 0
        },
        "id": "SSVuYiDXzyS0",
        "outputId": "99d88e99-0120-4af1-dd32-c522fbf090e2"
      },
      "execution_count": 12,
      "outputs": [
        {
          "output_type": "stream",
          "name": "stderr",
          "text": [
            "Exception in thread Thread-11 (simulate_writes):\n",
            "Traceback (most recent call last):\n",
            "  File \"/usr/lib/python3.10/threading.py\", line 1016, in _bootstrap_inner\n",
            "    self.run()\n",
            "  File \"/usr/lib/python3.10/threading.py\", line 953, in run\n",
            "    self._target(*self._args, **self._kwargs)\n",
            "TypeError: __main__.simulate_writes() argument after * must be an iterable, not DatabaseNode\n"
          ]
        }
      ]
    },
    {
      "cell_type": "code",
      "source": [
        "#initiates a read operation on node1\n",
        "node1.read_data(\"key0\")\n",
        "# pause 5 seconds to all write operations to be replicated between the nodes before reading again\n",
        "time.sleep(5)\n",
        "# performs a similar read operation on node2, allow for replication of write operations between the nodes\n",
        "node2.read_data(\"key0\")"
      ],
      "metadata": {
        "colab": {
          "base_uri": "https://localhost:8080/",
          "height": 0
        },
        "id": "g5VNwA3g0hlw",
        "outputId": "d00686b0-7833-4b8a-fe70-cdfbd1bb1634"
      },
      "execution_count": 13,
      "outputs": [
        {
          "output_type": "stream",
          "name": "stdout",
          "text": [
            "Node 1: Read Operation - Key: key0, Value: Not found\n",
            "Node 2: Read Operation - Key: key0, Value: Not found\n"
          ]
        }
      ]
    }
  ]
}